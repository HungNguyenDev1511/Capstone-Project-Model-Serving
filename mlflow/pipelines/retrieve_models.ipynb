{
 "cells": [
  {
   "cell_type": "code",
   "execution_count": 1,
   "id": "aada3d0d-b4c9-4f75-82bf-3e2f5d9cd2af",
   "metadata": {},
   "outputs": [],
   "source": [
    "import constants\n",
    "from pprint import pprint\n",
    "import mlflow\n",
    "from mlflow import MlflowClient"
   ]
  },
  {
   "cell_type": "code",
   "execution_count": 2,
   "id": "60f816ff-bea4-4921-a12c-fcbb13d7f05b",
   "metadata": {},
   "outputs": [],
   "source": [
    "mlflow.set_tracking_uri(constants.TRACKING_URI) # Define which tracking server to use"
   ]
  },
  {
   "cell_type": "code",
   "execution_count": 6,
   "id": "067dbead-a245-477f-8887-cd68b8ce2515",
   "metadata": {},
   "outputs": [
    {
     "name": "stdout",
     "output_type": "stream",
     "text": [
      "{   'aliases': [],\n",
      "    'creation_timestamp': 1703665794846,\n",
      "    'current_stage': 'Production',\n",
      "    'description': '',\n",
      "    'last_updated_timestamp': 1703770444942,\n",
      "    'name': 'hehe',\n",
      "    'run_id': '6d7ce7eb0b7940a49c435b4a05fd4053',\n",
      "    'run_link': '',\n",
      "    'source': 'mlflow-artifacts:/0/6d7ce7eb0b7940a49c435b4a05fd4053/artifacts/mlflow_model',\n",
      "    'status': 'READY',\n",
      "    'status_message': '',\n",
      "    'tags': {},\n",
      "    'user_id': '',\n",
      "    'version': '2'}\n",
      "{   'aliases': [],\n",
      "    'creation_timestamp': 1703664447073,\n",
      "    'current_stage': 'Staging',\n",
      "    'description': '',\n",
      "    'last_updated_timestamp': 1703664465728,\n",
      "    'name': 'hehe',\n",
      "    'run_id': '3c7b0693ff594173ae4c595a35b03778',\n",
      "    'run_link': '',\n",
      "    'source': 'mlflow-artifacts:/0/3c7b0693ff594173ae4c595a35b03778/artifacts/mlflow_model',\n",
      "    'status': 'READY',\n",
      "    'status_message': '',\n",
      "    'tags': {},\n",
      "    'user_id': '',\n",
      "    'version': '1'}\n",
      "'**********************************************************************'\n",
      "Downloading artifacts...\n"
     ]
    },
    {
     "name": "stderr",
     "output_type": "stream",
     "text": [
      "Downloading artifacts:   0%|       | 0/13 [00:00<?, ?it/s]2023/12/28 20:34:10 INFO mlflow.store.artifact.artifact_repo: The progress bar can be disabled by setting the environment variable MLFLOW_ENABLE_ARTIFACTS_PROGRESS_BAR to false\n",
      "Downloading artifacts: 100%|█| 13/13 [00:00<00:00, 420.38i\n"
     ]
    }
   ],
   "source": [
    "# Define a client to interact with MLFlow\n",
    "# you can download artifacts, register a new model,\n",
    "# create a new experiment instead of Default, .etc.\n",
    "# Please take a look at https://mlflow.org/docs/latest/python_api/mlflow.client.html\n",
    "client = MlflowClient()\n",
    "\n",
    "for mv in client.search_model_versions(\"name='hehe'\"):\n",
    "    pprint(dict(mv), indent=4)\n",
    "    if mv.current_stage == \"Staging\":\n",
    "        pprint(\"*\"*70)\n",
    "        print(\"Downloading artifacts...\")\n",
    "        client.download_artifacts(mv.run_id, \".\", \"artifacts\")"
   ]
  },
  {
   "cell_type": "code",
   "execution_count": null,
   "id": "d5e64714-d14f-489d-9df4-481c29bc113f",
   "metadata": {},
   "outputs": [],
   "source": []
  }
 ],
 "metadata": {
  "kernelspec": {
   "display_name": "Python 3 (ipykernel)",
   "language": "python",
   "name": "python3"
  },
  "language_info": {
   "codemirror_mode": {
    "name": "ipython",
    "version": 3
   },
   "file_extension": ".py",
   "mimetype": "text/x-python",
   "name": "python",
   "nbconvert_exporter": "python",
   "pygments_lexer": "ipython3",
   "version": "3.9.18"
  }
 },
 "nbformat": 4,
 "nbformat_minor": 5
}
