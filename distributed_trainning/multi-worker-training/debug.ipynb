{
 "cells": [
  {
   "cell_type": "code",
   "execution_count": 16,
   "metadata": {},
   "outputs": [],
   "source": [
    "import os\n",
    "import xml.etree.ElementTree\n",
    "# import cv2\n",
    "import numpy\n",
    "from utils import config"
   ]
  },
  {
   "cell_type": "code",
   "execution_count": 17,
   "metadata": {},
   "outputs": [],
   "source": [
    "def load_image(file_name):\n",
    "    path = os.path.join(config.data_dir, config.image_dir, file_name + '.jpg')\n",
    "    image = cv2.imread(path)\n",
    "    return image\n",
    "\n",
    "\n",
    "def load_label(file_name, split='train'):\n",
    "    # Construct the new path for the label file\n",
    "    path = os.path.join(config.data_dir, config.label_dir, split, file_name + '.txt')\n",
    "    \n",
    "    boxes = []\n",
    "    \n",
    "    # Read the text file line by line\n",
    "    with open(path, 'r') as f:\n",
    "        for line in f:\n",
    "            # Split the line into coordinates\n",
    "            _, x_min, y_min, x_max, y_max = line.strip().split()\n",
    "            x_min = float(x_min)\n",
    "            y_min = float(y_min)\n",
    "            x_max = float(x_max)\n",
    "            y_max = float(y_max)\n",
    "\n",
    "            boxes.append([x_min, y_min, x_max, y_max])\n",
    "   \n",
    "    boxes = numpy.asarray(boxes, numpy.float32)    \n",
    "    return boxes"
   ]
  },
  {
   "cell_type": "code",
   "execution_count": 18,
   "metadata": {},
   "outputs": [
    {
     "name": "stdout",
     "output_type": "stream",
     "text": [
      "0.562590448668639 0.6324806949999999 0.38422575976331363 0.2265122263157895\n",
      "0.9337916063609467 0.564913127368421 0.13241678727810652 0.17631917631578944\n"
     ]
    }
   ],
   "source": [
    "path = \"Dataset/labels/valid/vid_4_700.txt\"\n",
    "with open(path, 'r') as f:\n",
    "    for line in f:\n",
    "        # print(line)\n",
    "        _, x_min, y_min, x_max, y_max = line.strip().split()\n",
    "        print(x_min, y_min, x_max, y_max)"
   ]
  },
  {
   "cell_type": "code",
   "execution_count": null,
   "metadata": {},
   "outputs": [],
   "source": []
  }
 ],
 "metadata": {
  "kernelspec": {
   "display_name": "Python 3",
   "language": "python",
   "name": "python3"
  },
  "language_info": {
   "codemirror_mode": {
    "name": "ipython",
    "version": 3
   },
   "file_extension": ".py",
   "mimetype": "text/x-python",
   "name": "python",
   "nbconvert_exporter": "python",
   "pygments_lexer": "ipython3",
   "version": "3.10.13"
  }
 },
 "nbformat": 4,
 "nbformat_minor": 2
}
