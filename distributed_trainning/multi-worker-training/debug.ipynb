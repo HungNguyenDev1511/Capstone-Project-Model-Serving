{
 "cells": [
  {
   "cell_type": "code",
   "execution_count": 1,
   "metadata": {},
   "outputs": [
    {
     "ename": "ModuleNotFoundError",
     "evalue": "No module named 'cv2'",
     "output_type": "error",
     "traceback": [
      "\u001b[1;31m---------------------------------------------------------------------------\u001b[0m",
      "\u001b[1;31mModuleNotFoundError\u001b[0m                       Traceback (most recent call last)",
      "Cell \u001b[1;32mIn[1], line 3\u001b[0m\n\u001b[0;32m      1\u001b[0m \u001b[38;5;28;01mimport\u001b[39;00m \u001b[38;5;21;01mos\u001b[39;00m\n\u001b[0;32m      2\u001b[0m \u001b[38;5;28;01mimport\u001b[39;00m \u001b[38;5;21;01mxml\u001b[39;00m\u001b[38;5;21;01m.\u001b[39;00m\u001b[38;5;21;01metree\u001b[39;00m\u001b[38;5;21;01m.\u001b[39;00m\u001b[38;5;21;01mElementTree\u001b[39;00m\n\u001b[1;32m----> 3\u001b[0m \u001b[38;5;28;01mimport\u001b[39;00m \u001b[38;5;21;01mcv2\u001b[39;00m\n\u001b[0;32m      4\u001b[0m \u001b[38;5;28;01mimport\u001b[39;00m \u001b[38;5;21;01mnumpy\u001b[39;00m\n\u001b[0;32m      5\u001b[0m \u001b[38;5;28;01mfrom\u001b[39;00m \u001b[38;5;21;01mutils\u001b[39;00m \u001b[38;5;28;01mimport\u001b[39;00m config\n",
      "\u001b[1;31mModuleNotFoundError\u001b[0m: No module named 'cv2'"
     ]
    }
   ],
   "source": [
    "import os\n",
    "import xml.etree.ElementTree\n",
    "import cv2\n",
    "import numpy\n",
    "from utils import config"
   ]
  },
  {
   "cell_type": "code",
   "execution_count": null,
   "metadata": {},
   "outputs": [],
   "source": [
    "def load_image(file_name):\n",
    "    path = os.path.join(config.data_dir, config.image_dir, file_name + '.jpg')\n",
    "    image = cv2.imread(path)\n",
    "    return image\n",
    "\n",
    "\n",
    "def load_label(file_name):\n",
    "    path = os.path.join(config.data_dir, config.label_dir, file_name + '.xml')\n",
    "    root = xml.etree.ElementTree.parse(path).getroot()\n",
    "\n",
    "    boxes = []\n",
    "    labels = []\n",
    "    for element in root.iter('object'):\n",
    "        x_min = float(element.find('bndbox').find('xmin').text)\n",
    "        y_min = float(element.find('bndbox').find('ymin').text)\n",
    "        x_max = float(element.find('bndbox').find('xmax').text)\n",
    "        y_max = float(element.find('bndbox').find('ymax').text)\n",
    "\n",
    "        boxes.append([x_min, y_min, x_max, y_max])\n",
    "        labels.append(config.class_dict[element.find('name').text])\n",
    "    boxes = numpy.asarray(boxes, numpy.float32)\n",
    "    labels = numpy.asarray(labels, numpy.int32)\n",
    "    return boxes, labels"
   ]
  }
 ],
 "metadata": {
  "kernelspec": {
   "display_name": "Python 3",
   "language": "python",
   "name": "python3"
  },
  "language_info": {
   "codemirror_mode": {
    "name": "ipython",
    "version": 3
   },
   "file_extension": ".py",
   "mimetype": "text/x-python",
   "name": "python",
   "nbconvert_exporter": "python",
   "pygments_lexer": "ipython3",
   "version": "3.10.13"
  }
 },
 "nbformat": 4,
 "nbformat_minor": 2
}
